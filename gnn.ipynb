{
 "metadata": {
  "kernelspec": {
   "language": "python",
   "display_name": "Python 3",
   "name": "python3"
  },
  "language_info": {
   "name": "python",
   "version": "3.10.10",
   "mimetype": "text/x-python",
   "codemirror_mode": {
    "name": "ipython",
    "version": 3
   },
   "pygments_lexer": "ipython3",
   "nbconvert_exporter": "python",
   "file_extension": ".py"
  }
 },
 "nbformat_minor": 4,
 "nbformat": 4,
 "cells": [
  {
   "cell_type": "code",
   "execution_count": 1,
   "outputs": [],
   "source": [
    "import numpy as np\n",
    "import torch\n",
    "import seaborn as sns\n",
    "from torch_geometric.data import Data\n",
    "import torch_geometric.transforms as T\n",
    "import pandas as pd\n",
    "import torch_geometric\n",
    "import torch.nn.functional as F\n",
    "from sklearn.preprocessing import StandardScaler, MinMaxScaler"
   ],
   "metadata": {
    "collapsed": false,
    "ExecuteTime": {
     "start_time": "2023-05-21T10:42:53.443330Z",
     "end_time": "2023-05-21T10:42:57.447881Z"
    }
   }
  },
  {
   "cell_type": "markdown",
   "source": [
    "### **Чтение данных**"
   ],
   "metadata": {}
  },
  {
   "cell_type": "code",
   "source": [
    "dataframe = pd.read_csv('train.csv')"
   ],
   "metadata": {
    "execution": {
     "iopub.status.busy": "2023-05-20T15:07:15.245396Z",
     "iopub.execute_input": "2023-05-20T15:07:15.246463Z",
     "iopub.status.idle": "2023-05-20T15:10:23.495245Z",
     "shell.execute_reply.started": "2023-05-20T15:07:15.246412Z",
     "shell.execute_reply": "2023-05-20T15:10:23.493917Z"
    },
    "trusted": true,
    "ExecuteTime": {
     "start_time": "2023-05-21T10:47:45.874942Z",
     "end_time": "2023-05-21T10:48:34.662804Z"
    }
   },
   "execution_count": 2,
   "outputs": []
  },
  {
   "cell_type": "code",
   "execution_count": 3,
   "outputs": [],
   "source": [
    "att = pd.read_csv('attr.csv')"
   ],
   "metadata": {
    "collapsed": false,
    "ExecuteTime": {
     "start_time": "2023-05-21T10:48:36.951183Z",
     "end_time": "2023-05-21T10:48:41.819283Z"
    }
   }
  },
  {
   "cell_type": "markdown",
   "source": [
    "### **Проверка набора данных**"
   ],
   "metadata": {}
  },
  {
   "cell_type": "code",
   "source": [
    "dataframe.head()"
   ],
   "metadata": {
    "execution": {
     "iopub.status.busy": "2023-05-20T15:17:18.830086Z",
     "iopub.execute_input": "2023-05-20T15:17:18.830626Z",
     "iopub.status.idle": "2023-05-20T15:17:18.862192Z",
     "shell.execute_reply.started": "2023-05-20T15:17:18.830569Z",
     "shell.execute_reply": "2023-05-20T15:17:18.860705Z"
    },
    "trusted": true,
    "ExecuteTime": {
     "start_time": "2023-05-21T10:44:02.277307Z",
     "end_time": "2023-05-21T10:44:02.331897Z"
    }
   },
   "execution_count": 4,
   "outputs": [
    {
     "data": {
      "text/plain": "   ego_id    u    v      t            x1   x2   x3\n0       0  131   84  148.0  5.669200e-07  0.0  0.0\n1       0  135  164  396.7  6.246274e-02  0.0  0.0\n2       0   47   15    NaN  0.000000e+00  0.0  1.0\n3       0    5    4  594.5  4.962974e-02  0.0  0.0\n4       0  176  219   45.5  1.237935e+00  0.0  0.0",
      "text/html": "<div>\n<style scoped>\n    .dataframe tbody tr th:only-of-type {\n        vertical-align: middle;\n    }\n\n    .dataframe tbody tr th {\n        vertical-align: top;\n    }\n\n    .dataframe thead th {\n        text-align: right;\n    }\n</style>\n<table border=\"1\" class=\"dataframe\">\n  <thead>\n    <tr style=\"text-align: right;\">\n      <th></th>\n      <th>ego_id</th>\n      <th>u</th>\n      <th>v</th>\n      <th>t</th>\n      <th>x1</th>\n      <th>x2</th>\n      <th>x3</th>\n    </tr>\n  </thead>\n  <tbody>\n    <tr>\n      <th>0</th>\n      <td>0</td>\n      <td>131</td>\n      <td>84</td>\n      <td>148.0</td>\n      <td>5.669200e-07</td>\n      <td>0.0</td>\n      <td>0.0</td>\n    </tr>\n    <tr>\n      <th>1</th>\n      <td>0</td>\n      <td>135</td>\n      <td>164</td>\n      <td>396.7</td>\n      <td>6.246274e-02</td>\n      <td>0.0</td>\n      <td>0.0</td>\n    </tr>\n    <tr>\n      <th>2</th>\n      <td>0</td>\n      <td>47</td>\n      <td>15</td>\n      <td>NaN</td>\n      <td>0.000000e+00</td>\n      <td>0.0</td>\n      <td>1.0</td>\n    </tr>\n    <tr>\n      <th>3</th>\n      <td>0</td>\n      <td>5</td>\n      <td>4</td>\n      <td>594.5</td>\n      <td>4.962974e-02</td>\n      <td>0.0</td>\n      <td>0.0</td>\n    </tr>\n    <tr>\n      <th>4</th>\n      <td>0</td>\n      <td>176</td>\n      <td>219</td>\n      <td>45.5</td>\n      <td>1.237935e+00</td>\n      <td>0.0</td>\n      <td>0.0</td>\n    </tr>\n  </tbody>\n</table>\n</div>"
     },
     "execution_count": 4,
     "metadata": {},
     "output_type": "execute_result"
    }
   ]
  },
  {
   "cell_type": "code",
   "source": [
    "att.head()"
   ],
   "metadata": {
    "trusted": true,
    "ExecuteTime": {
     "start_time": "2023-05-21T10:44:03.680616Z",
     "end_time": "2023-05-21T10:44:03.704552Z"
    }
   },
   "execution_count": 5,
   "outputs": [
    {
     "data": {
      "text/plain": "   ego_id    u  age    city_id  sex     school  university\n0       0  227   68         -1    1  778293348          -1\n1       0   45   38  237065842    1   82803468   238500268\n2       0  142   60  237065842    1  196560139          -1\n3       0  280   66         -1    2  963209731   720783270\n4       0   41   18         -1    2  308862409          -1",
      "text/html": "<div>\n<style scoped>\n    .dataframe tbody tr th:only-of-type {\n        vertical-align: middle;\n    }\n\n    .dataframe tbody tr th {\n        vertical-align: top;\n    }\n\n    .dataframe thead th {\n        text-align: right;\n    }\n</style>\n<table border=\"1\" class=\"dataframe\">\n  <thead>\n    <tr style=\"text-align: right;\">\n      <th></th>\n      <th>ego_id</th>\n      <th>u</th>\n      <th>age</th>\n      <th>city_id</th>\n      <th>sex</th>\n      <th>school</th>\n      <th>university</th>\n    </tr>\n  </thead>\n  <tbody>\n    <tr>\n      <th>0</th>\n      <td>0</td>\n      <td>227</td>\n      <td>68</td>\n      <td>-1</td>\n      <td>1</td>\n      <td>778293348</td>\n      <td>-1</td>\n    </tr>\n    <tr>\n      <th>1</th>\n      <td>0</td>\n      <td>45</td>\n      <td>38</td>\n      <td>237065842</td>\n      <td>1</td>\n      <td>82803468</td>\n      <td>238500268</td>\n    </tr>\n    <tr>\n      <th>2</th>\n      <td>0</td>\n      <td>142</td>\n      <td>60</td>\n      <td>237065842</td>\n      <td>1</td>\n      <td>196560139</td>\n      <td>-1</td>\n    </tr>\n    <tr>\n      <th>3</th>\n      <td>0</td>\n      <td>280</td>\n      <td>66</td>\n      <td>-1</td>\n      <td>2</td>\n      <td>963209731</td>\n      <td>720783270</td>\n    </tr>\n    <tr>\n      <th>4</th>\n      <td>0</td>\n      <td>41</td>\n      <td>18</td>\n      <td>-1</td>\n      <td>2</td>\n      <td>308862409</td>\n      <td>-1</td>\n    </tr>\n  </tbody>\n</table>\n</div>"
     },
     "execution_count": 5,
     "metadata": {},
     "output_type": "execute_result"
    }
   ]
  },
  {
   "cell_type": "code",
   "execution_count": 4,
   "outputs": [],
   "source": [
    "att['u'] = att['u'].astype(str)\n",
    "att['ego_id'] = att['ego_id'].astype(str)\n",
    "att['u'] = att['u'] + '_' + att['ego_id']\n",
    "att['u'] = att['u'].astype('category').cat.codes"
   ],
   "metadata": {
    "collapsed": false,
    "ExecuteTime": {
     "start_time": "2023-05-21T10:48:44.677759Z",
     "end_time": "2023-05-21T10:49:31.210394Z"
    }
   }
  },
  {
   "cell_type": "markdown",
   "source": [
    "### **Изменение индексов для категорий набора данных attribute (уменьшение числового диапазона)**"
   ],
   "metadata": {}
  },
  {
   "cell_type": "code",
   "source": [
    "att['school'] = att['school'].astype(str).astype('category').cat.codes\n",
    "att['university'] = att['university'].astype(str).astype('category').cat.codes\n",
    "att['city_id'] = att['city_id'].astype(str).astype('category').cat.codes"
   ],
   "metadata": {
    "execution": {
     "iopub.status.busy": "2023-05-20T15:17:21.486056Z",
     "iopub.execute_input": "2023-05-20T15:17:21.487296Z",
     "iopub.status.idle": "2023-05-20T15:19:15.144112Z",
     "shell.execute_reply.started": "2023-05-20T15:17:21.487249Z",
     "shell.execute_reply": "2023-05-20T15:19:15.142639Z"
    },
    "trusted": true,
    "ExecuteTime": {
     "start_time": "2023-05-21T10:49:35.153694Z",
     "end_time": "2023-05-21T10:50:04.067014Z"
    }
   },
   "execution_count": 5,
   "outputs": []
  },
  {
   "cell_type": "markdown",
   "source": [
    "### **Проверка на nan в тренировочном наборе данных**"
   ],
   "metadata": {}
  },
  {
   "cell_type": "code",
   "source": [
    "print('ego_id nulls: ' + str(dataframe['ego_id'].isnull().sum()))\n",
    "print('u nulls: ' + str(dataframe['u'].isnull().sum()))\n",
    "print('v nulls: ' + str(dataframe['v'].isnull().sum()))\n",
    "print('t nulls: ' + str(dataframe['t'].isnull().sum()))\n",
    "print('x1 nulls: ' + str(dataframe['x1'].isnull().sum()))\n",
    "print('x2 nulls: ' + str(dataframe['x2'].isnull().sum()))\n",
    "print('x3 nulls: ' + str(dataframe['x3'].isnull().sum()))"
   ],
   "metadata": {
    "execution": {
     "iopub.status.busy": "2023-05-20T15:20:48.709167Z",
     "iopub.execute_input": "2023-05-20T15:20:48.709661Z",
     "iopub.status.idle": "2023-05-20T15:20:50.073240Z",
     "shell.execute_reply.started": "2023-05-20T15:20:48.709626Z",
     "shell.execute_reply": "2023-05-20T15:20:50.071763Z"
    },
    "trusted": true,
    "ExecuteTime": {
     "start_time": "2023-05-21T10:12:29.976566Z",
     "end_time": "2023-05-21T10:12:31.726125Z"
    }
   },
   "execution_count": 7,
   "outputs": [
    {
     "name": "stdout",
     "output_type": "stream",
     "text": [
      "ego_id nulls: 0\n",
      "u nulls: 0\n",
      "v nulls: 0\n",
      "t nulls: 18717218\n",
      "x1 nulls: 0\n",
      "x2 nulls: 0\n",
      "x3 nulls: 0\n"
     ]
    }
   ]
  },
  {
   "cell_type": "markdown",
   "source": [
    "### **Заполнение nan признака t средним значением**"
   ],
   "metadata": {}
  },
  {
   "cell_type": "code",
   "source": [
    "dataframe['t'] = dataframe['t'].fillna(dataframe['t'].mean())"
   ],
   "metadata": {
    "execution": {
     "iopub.status.busy": "2023-05-20T15:20:55.027222Z",
     "iopub.execute_input": "2023-05-20T15:20:55.027675Z",
     "iopub.status.idle": "2023-05-20T15:21:01.419848Z",
     "shell.execute_reply.started": "2023-05-20T15:20:55.027641Z",
     "shell.execute_reply": "2023-05-20T15:21:01.418265Z"
    },
    "trusted": true,
    "ExecuteTime": {
     "start_time": "2023-05-21T10:50:12.607219Z",
     "end_time": "2023-05-21T10:50:13.395390Z"
    }
   },
   "execution_count": 8,
   "outputs": []
  },
  {
   "cell_type": "markdown",
   "source": [
    "### **Проверка на nan в наборе данных с атрибутами**"
   ],
   "metadata": {}
  },
  {
   "cell_type": "code",
   "source": [
    "print('ego_id nulls: ' + str(att['ego_id'].isnull().sum()))\n",
    "print('u nulls: ' + str(att['u'].isnull().sum()))\n",
    "print('age nulls: ' + str(att['age'].isnull().sum()))\n",
    "print('city_id nulls: ' + str(att['city_id'].isnull().sum()))\n",
    "print('sex nulls: ' + str(att['sex'].isnull().sum()))\n",
    "print('school nulls: ' + str(att['school'].isnull().sum()))\n",
    "print('university nulls: ' + str(att['university'].isnull().sum()))"
   ],
   "metadata": {
    "execution": {
     "iopub.status.busy": "2023-05-20T15:21:07.532409Z",
     "iopub.execute_input": "2023-05-20T15:21:07.533645Z",
     "iopub.status.idle": "2023-05-20T15:21:07.633786Z",
     "shell.execute_reply.started": "2023-05-20T15:21:07.533600Z",
     "shell.execute_reply": "2023-05-20T15:21:07.632056Z"
    },
    "trusted": true,
    "ExecuteTime": {
     "start_time": "2023-05-21T10:50:14.779507Z",
     "end_time": "2023-05-21T10:50:15.162150Z"
    }
   },
   "execution_count": 9,
   "outputs": [
    {
     "name": "stdout",
     "output_type": "stream",
     "text": [
      "ego_id nulls: 0\n",
      "u nulls: 0\n",
      "age nulls: 0\n",
      "city_id nulls: 0\n",
      "sex nulls: 0\n",
      "school nulls: 0\n",
      "university nulls: 0\n"
     ]
    }
   ]
  },
  {
   "cell_type": "markdown",
   "source": [
    "### **Создаём набор данных для обучения (все данные взять не получается из-за недостатка RAM)**"
   ],
   "metadata": {}
  },
  {
   "cell_type": "code",
   "source": [
    "#2002538\n",
    "train_dataframe = dataframe.iloc[0:3000000, ::]"
   ],
   "metadata": {
    "execution": {
     "iopub.status.busy": "2023-05-20T15:21:16.747178Z",
     "iopub.execute_input": "2023-05-20T15:21:16.747656Z",
     "iopub.status.idle": "2023-05-20T15:21:22.803986Z",
     "shell.execute_reply.started": "2023-05-20T15:21:16.747618Z",
     "shell.execute_reply": "2023-05-20T15:21:22.802589Z"
    },
    "trusted": true,
    "ExecuteTime": {
     "start_time": "2023-05-21T10:50:26.822760Z",
     "end_time": "2023-05-21T10:50:26.850242Z"
    }
   },
   "execution_count": 10,
   "outputs": []
  },
  {
   "cell_type": "markdown",
   "source": [
    "### **Изменение ID для U и V (делаем уникальные неповторяющиеся айди всех эко-графов)**"
   ],
   "metadata": {}
  },
  {
   "cell_type": "code",
   "source": [
    "train_dataframe['u'] = train_dataframe['u'].astype(str)\n",
    "train_dataframe['v'] = train_dataframe['v'].astype(str)\n",
    "train_dataframe['ego_id'] = train_dataframe['ego_id'].astype(str)\n",
    "\n",
    "train_dataframe['u'] = train_dataframe['u'] + '_' + train_dataframe['ego_id']\n",
    "train_dataframe['v'] = train_dataframe['v'] + '_' + train_dataframe['ego_id']\n",
    "\n",
    "train_dataframe['u'] = train_dataframe['u'].astype('category').cat.codes\n",
    "train_dataframe['v'] = train_dataframe['v'].astype('category').cat.codes"
   ],
   "metadata": {
    "execution": {
     "iopub.status.busy": "2023-05-20T15:21:40.778085Z",
     "iopub.execute_input": "2023-05-20T15:21:40.778528Z",
     "iopub.status.idle": "2023-05-20T15:21:48.402362Z",
     "shell.execute_reply.started": "2023-05-20T15:21:40.778495Z",
     "shell.execute_reply": "2023-05-20T15:21:48.400793Z"
    },
    "trusted": true,
    "ExecuteTime": {
     "start_time": "2023-05-21T10:50:30.899228Z",
     "end_time": "2023-05-21T10:50:34.799171Z"
    }
   },
   "execution_count": 11,
   "outputs": [
    {
     "name": "stderr",
     "output_type": "stream",
     "text": [
      "C:\\Users\\user\\AppData\\Local\\Temp\\ipykernel_7092\\1641758754.py:1: SettingWithCopyWarning: \n",
      "A value is trying to be set on a copy of a slice from a DataFrame.\n",
      "Try using .loc[row_indexer,col_indexer] = value instead\n",
      "\n",
      "See the caveats in the documentation: https://pandas.pydata.org/pandas-docs/stable/user_guide/indexing.html#returning-a-view-versus-a-copy\n",
      "  train_dataframe['u'] = train_dataframe['u'].astype(str)\n",
      "C:\\Users\\user\\AppData\\Local\\Temp\\ipykernel_7092\\1641758754.py:2: SettingWithCopyWarning: \n",
      "A value is trying to be set on a copy of a slice from a DataFrame.\n",
      "Try using .loc[row_indexer,col_indexer] = value instead\n",
      "\n",
      "See the caveats in the documentation: https://pandas.pydata.org/pandas-docs/stable/user_guide/indexing.html#returning-a-view-versus-a-copy\n",
      "  train_dataframe['v'] = train_dataframe['v'].astype(str)\n",
      "C:\\Users\\user\\AppData\\Local\\Temp\\ipykernel_7092\\1641758754.py:3: SettingWithCopyWarning: \n",
      "A value is trying to be set on a copy of a slice from a DataFrame.\n",
      "Try using .loc[row_indexer,col_indexer] = value instead\n",
      "\n",
      "See the caveats in the documentation: https://pandas.pydata.org/pandas-docs/stable/user_guide/indexing.html#returning-a-view-versus-a-copy\n",
      "  train_dataframe['ego_id'] = train_dataframe['ego_id'].astype(str)\n",
      "C:\\Users\\user\\AppData\\Local\\Temp\\ipykernel_7092\\1641758754.py:5: SettingWithCopyWarning: \n",
      "A value is trying to be set on a copy of a slice from a DataFrame.\n",
      "Try using .loc[row_indexer,col_indexer] = value instead\n",
      "\n",
      "See the caveats in the documentation: https://pandas.pydata.org/pandas-docs/stable/user_guide/indexing.html#returning-a-view-versus-a-copy\n",
      "  train_dataframe['u'] = train_dataframe['u'] + '_' + train_dataframe['ego_id']\n",
      "C:\\Users\\user\\AppData\\Local\\Temp\\ipykernel_7092\\1641758754.py:6: SettingWithCopyWarning: \n",
      "A value is trying to be set on a copy of a slice from a DataFrame.\n",
      "Try using .loc[row_indexer,col_indexer] = value instead\n",
      "\n",
      "See the caveats in the documentation: https://pandas.pydata.org/pandas-docs/stable/user_guide/indexing.html#returning-a-view-versus-a-copy\n",
      "  train_dataframe['v'] = train_dataframe['v'] + '_' + train_dataframe['ego_id']\n",
      "C:\\Users\\user\\AppData\\Local\\Temp\\ipykernel_7092\\1641758754.py:8: SettingWithCopyWarning: \n",
      "A value is trying to be set on a copy of a slice from a DataFrame.\n",
      "Try using .loc[row_indexer,col_indexer] = value instead\n",
      "\n",
      "See the caveats in the documentation: https://pandas.pydata.org/pandas-docs/stable/user_guide/indexing.html#returning-a-view-versus-a-copy\n",
      "  train_dataframe['u'] = train_dataframe['u'].astype('category').cat.codes\n",
      "C:\\Users\\user\\AppData\\Local\\Temp\\ipykernel_7092\\1641758754.py:9: SettingWithCopyWarning: \n",
      "A value is trying to be set on a copy of a slice from a DataFrame.\n",
      "Try using .loc[row_indexer,col_indexer] = value instead\n",
      "\n",
      "See the caveats in the documentation: https://pandas.pydata.org/pandas-docs/stable/user_guide/indexing.html#returning-a-view-versus-a-copy\n",
      "  train_dataframe['v'] = train_dataframe['v'].astype('category').cat.codes\n"
     ]
    }
   ]
  },
  {
   "cell_type": "markdown",
   "source": [
    "### **Добавим вершины edge_index, признаки x_features для вершин и целевое значение y**"
   ],
   "metadata": {}
  },
  {
   "cell_type": "code",
   "execution_count": 12,
   "outputs": [],
   "source": [
    "train_dataframe = train_dataframe.sort_values(by=['u'])\n",
    "x_features=(att[att['u'].isin(pd.concat([train_dataframe['u'], train_dataframe['v']]).drop_duplicates().values)].sort_values(by=['u'])).loc[::, ['age', 'city_id', 'sex', 'school', 'university']].values\n",
    "x_features = torch.tensor(x_features, dtype=torch.float)"
   ],
   "metadata": {
    "collapsed": false,
    "ExecuteTime": {
     "start_time": "2023-05-21T10:50:42.526778Z",
     "end_time": "2023-05-21T10:50:43.912589Z"
    }
   }
  },
  {
   "cell_type": "code",
   "source": [
    "#x_features = torch.tensor(train_dataframe.iloc[::, 7::].values, dtype=torch.float)\n",
    "edge_index = torch.tensor(train_dataframe.iloc[::, 1:3].values, dtype=torch.long).permute(1, 0)\n",
    "y_train = torch.tensor(train_dataframe.iloc[::, 4].values)\n",
    "data = Data(x=x_features, edge_index=edge_index, y=y_train)"
   ],
   "metadata": {
    "execution": {
     "iopub.status.busy": "2023-05-20T15:23:04.489591Z",
     "iopub.execute_input": "2023-05-20T15:23:04.490125Z",
     "iopub.status.idle": "2023-05-20T15:23:04.554028Z",
     "shell.execute_reply.started": "2023-05-20T15:23:04.490080Z",
     "shell.execute_reply": "2023-05-20T15:23:04.552618Z"
    },
    "trusted": true,
    "ExecuteTime": {
     "start_time": "2023-05-21T10:50:45.790797Z",
     "end_time": "2023-05-21T10:50:45.827699Z"
    }
   },
   "execution_count": 13,
   "outputs": []
  },
  {
   "cell_type": "markdown",
   "source": [
    "### **Добавим признаки для рёбер**"
   ],
   "metadata": {}
  },
  {
   "cell_type": "code",
   "execution_count": 14,
   "outputs": [],
   "source": [
    "scaler = MinMaxScaler()\n",
    "scaler.fit(train_dataframe['t'].values.reshape(-1,1))\n",
    "train_dataframe['t'] = scaler.transform(train_dataframe['t'].values.reshape(-1,1))"
   ],
   "metadata": {
    "collapsed": false,
    "ExecuteTime": {
     "start_time": "2023-05-21T10:50:48.980955Z",
     "end_time": "2023-05-21T10:50:49.027216Z"
    }
   }
  },
  {
   "cell_type": "code",
   "source": [
    "data.edge_attr = torch.tensor(train_dataframe.loc[::, ['t', 'x2', 'x3']].values)"
   ],
   "metadata": {
    "execution": {
     "iopub.status.busy": "2023-05-20T15:35:24.302544Z",
     "iopub.execute_input": "2023-05-20T15:35:24.302979Z",
     "iopub.status.idle": "2023-05-20T15:35:24.344052Z",
     "shell.execute_reply.started": "2023-05-20T15:35:24.302946Z",
     "shell.execute_reply": "2023-05-20T15:35:24.342616Z"
    },
    "trusted": true,
    "ExecuteTime": {
     "start_time": "2023-05-21T10:50:50.214520Z",
     "end_time": "2023-05-21T10:50:50.263389Z"
    }
   },
   "execution_count": 15,
   "outputs": []
  },
  {
   "cell_type": "code",
   "source": [
    "data.edge_attr.shape"
   ],
   "metadata": {
    "execution": {
     "iopub.status.busy": "2023-05-20T15:37:21.394588Z",
     "iopub.execute_input": "2023-05-20T15:37:21.395063Z",
     "iopub.status.idle": "2023-05-20T15:37:21.403044Z",
     "shell.execute_reply.started": "2023-05-20T15:37:21.395023Z",
     "shell.execute_reply": "2023-05-20T15:37:21.401777Z"
    },
    "trusted": true,
    "ExecuteTime": {
     "start_time": "2023-05-21T10:50:50.888219Z",
     "end_time": "2023-05-21T10:50:50.905175Z"
    }
   },
   "execution_count": 16,
   "outputs": [
    {
     "data": {
      "text/plain": "torch.Size([3000000, 3])"
     },
     "execution_count": 16,
     "metadata": {},
     "output_type": "execute_result"
    }
   ]
  },
  {
   "cell_type": "code",
   "source": [
    "# data = T.ToUndirected()(data)\n",
    "\n",
    "train_data, val_data, test_data = T.RandomLinkSplit(\n",
    "    num_val=0.1,\n",
    "    num_test=0.1,\n",
    "    neg_sampling_ratio=0.0)(data)"
   ],
   "metadata": {
    "execution": {
     "iopub.status.busy": "2023-05-20T15:40:27.324194Z",
     "iopub.execute_input": "2023-05-20T15:40:27.326230Z",
     "iopub.status.idle": "2023-05-20T15:40:30.251725Z",
     "shell.execute_reply.started": "2023-05-20T15:40:27.326165Z",
     "shell.execute_reply": "2023-05-20T15:40:30.250596Z"
    },
    "trusted": true,
    "ExecuteTime": {
     "start_time": "2023-05-21T10:50:54.415339Z",
     "end_time": "2023-05-21T10:50:55.266132Z"
    }
   },
   "execution_count": 17,
   "outputs": []
  },
  {
   "cell_type": "code",
   "execution_count": 18,
   "outputs": [
    {
     "data": {
      "text/plain": "Data(x=[297736, 5], edge_index=[2, 2400000], y=[2400000], edge_attr=[2400000, 3], edge_label=[2400000], edge_label_index=[2, 2400000])"
     },
     "execution_count": 18,
     "metadata": {},
     "output_type": "execute_result"
    }
   ],
   "source": [
    "train_data"
   ],
   "metadata": {
    "collapsed": false,
    "ExecuteTime": {
     "start_time": "2023-05-21T10:50:55.849275Z",
     "end_time": "2023-05-21T10:50:55.867227Z"
    }
   }
  },
  {
   "cell_type": "markdown",
   "source": [
    "Модель GNN с использованием Attention\n"
   ],
   "metadata": {
    "collapsed": false
   }
  },
  {
   "cell_type": "code",
   "source": [
    "class GNNModel(torch.nn.Module):\n",
    "    def __init__(self, input_features, hidden_channels):\n",
    "        super().__init__()\n",
    "        self.conv1 = torch_geometric.nn.GATConv(input_features, hidden_channels, heads=1)\n",
    "        self.conv2 = torch_geometric.nn.GATConv(hidden_channels, hidden_channels, heads=1)\n",
    "        self.conv3 = torch_geometric.nn.GATConv(hidden_channels, hidden_channels, heads=1)\n",
    "        self.dropout = torch.nn.Dropout(0.5)\n",
    "        self.lin1 = torch.nn.Linear(hidden_channels, 2*hidden_channels)\n",
    "        self.lin2 = torch.nn.Linear(2*hidden_channels, 1)\n",
    "\n",
    "    def forward(self, x, edge_index, edge_attr):\n",
    "        x = self.conv1(x, edge_index, edge_attr).relu()\n",
    "        x = self.conv2(x, edge_index, edge_attr).relu()\n",
    "        features = self.conv3(x, edge_index, edge_attr).relu()\n",
    "        row, column = edge_index\n",
    "        features = features[row]\n",
    "        x = self.dropout(features)\n",
    "        x = self.lin1(x).relu()\n",
    "        x = self.lin2(x)\n",
    "        return x.view(-1)\n",
    "\n",
    "device = torch.device('cuda' if torch.cuda.is_available() else 'cpu')\n",
    "\n",
    "model = GNNModel(input_features=5, hidden_channels=32).to(device)\n",
    "model = model.float()\n",
    "print(model)"
   ],
   "metadata": {
    "execution": {
     "iopub.status.busy": "2023-05-20T15:40:37.115836Z",
     "iopub.execute_input": "2023-05-20T15:40:37.116326Z",
     "iopub.status.idle": "2023-05-20T15:40:37.136371Z",
     "shell.execute_reply.started": "2023-05-20T15:40:37.116290Z",
     "shell.execute_reply": "2023-05-20T15:40:37.135224Z"
    },
    "trusted": true,
    "ExecuteTime": {
     "start_time": "2023-05-21T10:51:07.528169Z",
     "end_time": "2023-05-21T10:51:07.635195Z"
    }
   },
   "execution_count": 19,
   "outputs": [
    {
     "name": "stdout",
     "output_type": "stream",
     "text": [
      "GNNModel(\n",
      "  (conv1): GATConv(5, 32, heads=1)\n",
      "  (conv2): GATConv(32, 32, heads=1)\n",
      "  (conv3): GATConv(32, 32, heads=1)\n",
      "  (dropout): Dropout(p=0.5, inplace=False)\n",
      "  (lin1): Linear(in_features=32, out_features=64, bias=True)\n",
      "  (lin2): Linear(in_features=64, out_features=1, bias=True)\n",
      ")\n"
     ]
    }
   ]
  },
  {
   "cell_type": "code",
   "source": [
    "optimizer = torch.optim.Adam(model.parameters(), lr=0.1)\n",
    "\n",
    "def train():\n",
    "    model.train()\n",
    "    optimizer.zero_grad()\n",
    "    pred = model(train_data.x, train_data.edge_index, train_data.edge_attr)\n",
    "    target = train_data.y.float()\n",
    "    loss = torch.sqrt(F.mse_loss(pred, target))\n",
    "    loss.backward()\n",
    "    optimizer.step()\n",
    "    return float(loss)\n",
    "\n",
    "@torch.no_grad()\n",
    "def test(data):\n",
    "    data = data.to(device)\n",
    "    model.eval()\n",
    "    pred = model(data.x, data.edge_index, train_data.edge_attr)\n",
    "    target = data.y\n",
    "    loss = torch.sqrt(F.mse_loss(pred, target))\n",
    "    return float(loss)\n",
    "\n",
    "for epoch in range(1, 501):\n",
    "    train_data = train_data.to(device)\n",
    "    loss = train()\n",
    "    train_rmse = test(train_data)\n",
    "    val_rmse = test(val_data)\n",
    "    print(f'Epoch: {epoch:03d}, Loss: {loss:.4f}, Train: {train_rmse:.4f}, '\n",
    "          f'Val: {val_rmse:.4f}')"
   ],
   "metadata": {
    "execution": {
     "iopub.status.busy": "2023-05-20T15:40:40.436872Z",
     "iopub.execute_input": "2023-05-20T15:40:40.437376Z"
    },
    "trusted": true,
    "ExecuteTime": {
     "start_time": "2023-05-21T10:51:08.943419Z",
     "end_time": "2023-05-21T10:53:00.552517Z"
    }
   },
   "execution_count": 20,
   "outputs": [
    {
     "name": "stdout",
     "output_type": "stream",
     "text": [
      "Epoch: 001, Loss: 83855.0859, Train: 539845.0189, Val: 539845.0189\n",
      "Epoch: 002, Loss: 589733.5000, Train: 147560.1688, Val: 147560.1688\n",
      "Epoch: 003, Loss: 179277.5312, Train: 25868.2613, Val: 25868.2613\n",
      "Epoch: 004, Loss: 39906.9922, Train: 1912.9634, Val: 1912.9634\n",
      "Epoch: 005, Loss: 3023.2668, Train: 220.3778, Val: 220.3778\n",
      "Epoch: 006, Loss: 588.7136, Train: 1395.2102, Val: 1395.2102\n",
      "Epoch: 007, Loss: 2135.9824, Train: 19.7890, Val: 19.7890\n",
      "Epoch: 008, Loss: 497.7990, Train: 51.8293, Val: 51.8293\n",
      "Epoch: 009, Loss: 168.8239, Train: 1.5793, Val: 1.5793\n",
      "Epoch: 010, Loss: 1.5793, Train: 1.5795, Val: 1.5795\n",
      "Epoch: 011, Loss: 1.5795, Train: 1.5754, Val: 1.5754\n",
      "Epoch: 012, Loss: 1.5754, Train: 1.5648, Val: 1.5648\n",
      "Epoch: 013, Loss: 1.5648, Train: 1.5493, Val: 1.5493\n",
      "Epoch: 014, Loss: 1.5493, Train: 1.5301, Val: 1.5301\n",
      "Epoch: 015, Loss: 1.5301, Train: 1.5087, Val: 1.5087\n",
      "Epoch: 016, Loss: 1.5087, Train: 1.4859, Val: 1.4859\n",
      "Epoch: 017, Loss: 1.4859, Train: 1.4628, Val: 1.4628\n",
      "Epoch: 018, Loss: 1.4628, Train: 1.4404, Val: 1.4404\n",
      "Epoch: 019, Loss: 1.4404, Train: 1.4192, Val: 1.4192\n",
      "Epoch: 020, Loss: 1.4192, Train: 1.3999, Val: 1.3999\n",
      "Epoch: 021, Loss: 1.3999, Train: 1.3830, Val: 1.3830\n",
      "Epoch: 022, Loss: 1.3830, Train: 1.3688, Val: 1.3688\n",
      "Epoch: 023, Loss: 1.3688, Train: 1.3575, Val: 1.3575\n",
      "Epoch: 024, Loss: 1.3575, Train: 1.3491, Val: 1.3491\n",
      "Epoch: 025, Loss: 1.3491, Train: 1.3435, Val: 1.3435\n",
      "Epoch: 026, Loss: 1.3435, Train: 1.3404, Val: 1.3404\n",
      "Epoch: 027, Loss: 1.3404, Train: 1.3394, Val: 1.3394\n",
      "Epoch: 028, Loss: 1.3394, Train: 1.3402, Val: 1.3402\n",
      "Epoch: 029, Loss: 1.3402, Train: 1.3421, Val: 1.3421\n",
      "Epoch: 030, Loss: 1.3421, Train: 1.3448, Val: 1.3448\n",
      "Epoch: 031, Loss: 1.3448, Train: 1.3478, Val: 1.3478\n",
      "Epoch: 032, Loss: 1.3478, Train: 1.3507, Val: 1.3507\n",
      "Epoch: 033, Loss: 1.3507, Train: 1.3533, Val: 1.3533\n",
      "Epoch: 034, Loss: 1.3533, Train: 1.3552, Val: 1.3552\n",
      "Epoch: 035, Loss: 1.3552, Train: 1.3565, Val: 1.3565\n",
      "Epoch: 036, Loss: 1.3565, Train: 1.3570, Val: 1.3570\n",
      "Epoch: 037, Loss: 1.3570, Train: 1.3568, Val: 1.3568\n",
      "Epoch: 038, Loss: 1.3568, Train: 1.3560, Val: 1.3560\n",
      "Epoch: 039, Loss: 1.3560, Train: 1.3546, Val: 1.3546\n",
      "Epoch: 040, Loss: 1.3546, Train: 1.3528, Val: 1.3528\n",
      "Epoch: 041, Loss: 1.3528, Train: 1.3507, Val: 1.3507\n",
      "Epoch: 042, Loss: 1.3507, Train: 1.3486, Val: 1.3486\n",
      "Epoch: 043, Loss: 1.3486, Train: 1.3465, Val: 1.3465\n",
      "Epoch: 044, Loss: 1.3465, Train: 1.3446, Val: 1.3446\n",
      "Epoch: 045, Loss: 1.3446, Train: 1.3429, Val: 1.3429\n",
      "Epoch: 046, Loss: 1.3429, Train: 1.3415, Val: 1.3415\n",
      "Epoch: 047, Loss: 1.3415, Train: 1.3405, Val: 1.3405\n",
      "Epoch: 048, Loss: 1.3405, Train: 1.3399, Val: 1.3399\n",
      "Epoch: 049, Loss: 1.3399, Train: 1.3395, Val: 1.3395\n",
      "Epoch: 050, Loss: 1.3395, Train: 1.3394, Val: 1.3394\n",
      "Epoch: 051, Loss: 1.3394, Train: 1.3396, Val: 1.3396\n",
      "Epoch: 052, Loss: 1.3396, Train: 1.3398, Val: 1.3398\n",
      "Epoch: 053, Loss: 1.3398, Train: 1.3402, Val: 1.3402\n",
      "Epoch: 054, Loss: 1.3402, Train: 1.3406, Val: 1.3406\n",
      "Epoch: 055, Loss: 1.3406, Train: 1.3409, Val: 1.3409\n",
      "Epoch: 056, Loss: 1.3409, Train: 1.3412, Val: 1.3412\n",
      "Epoch: 057, Loss: 1.3412, Train: 1.3413, Val: 1.3413\n",
      "Epoch: 058, Loss: 1.3413, Train: 1.3414, Val: 1.3414\n",
      "Epoch: 059, Loss: 1.3414, Train: 1.3414, Val: 1.3414\n",
      "Epoch: 060, Loss: 1.3414, Train: 1.3413, Val: 1.3413\n",
      "Epoch: 061, Loss: 1.3413, Train: 1.3411, Val: 1.3411\n",
      "Epoch: 062, Loss: 1.3411, Train: 1.3408, Val: 1.3408\n",
      "Epoch: 063, Loss: 1.3408, Train: 1.3405, Val: 1.3405\n",
      "Epoch: 064, Loss: 1.3405, Train: 1.3403, Val: 1.3403\n",
      "Epoch: 065, Loss: 1.3403, Train: 1.3400, Val: 1.3400\n",
      "Epoch: 066, Loss: 1.3400, Train: 1.3398, Val: 1.3398\n",
      "Epoch: 067, Loss: 1.3398, Train: 1.3397, Val: 1.3397\n",
      "Epoch: 068, Loss: 1.3397, Train: 1.3395, Val: 1.3395\n",
      "Epoch: 069, Loss: 1.3395, Train: 1.3395, Val: 1.3395\n",
      "Epoch: 070, Loss: 1.3395, Train: 1.3394, Val: 1.3394\n",
      "Epoch: 071, Loss: 1.3394, Train: 1.3394, Val: 1.3394\n",
      "Epoch: 072, Loss: 1.3394, Train: 1.3395, Val: 1.3395\n",
      "Epoch: 073, Loss: 1.3395, Train: 1.3395, Val: 1.3395\n",
      "Epoch: 074, Loss: 1.3395, Train: 1.3396, Val: 1.3396\n",
      "Epoch: 075, Loss: 1.3396, Train: 1.3396, Val: 1.3396\n",
      "Epoch: 076, Loss: 1.3396, Train: 1.3397, Val: 1.3397\n",
      "Epoch: 077, Loss: 1.3397, Train: 1.3397, Val: 1.3397\n",
      "Epoch: 078, Loss: 1.3397, Train: 1.3397, Val: 1.3397\n",
      "Epoch: 079, Loss: 1.3397, Train: 1.3397, Val: 1.3397\n",
      "Epoch: 080, Loss: 1.3397, Train: 1.3397, Val: 1.3397\n",
      "Epoch: 081, Loss: 1.3397, Train: 1.3396, Val: 1.3396\n",
      "Epoch: 082, Loss: 1.3396, Train: 1.3396, Val: 1.3396\n",
      "Epoch: 083, Loss: 1.3396, Train: 1.3396, Val: 1.3396\n",
      "Epoch: 084, Loss: 1.3396, Train: 1.3395, Val: 1.3395\n",
      "Epoch: 085, Loss: 1.3395, Train: 1.3395, Val: 1.3395\n",
      "Epoch: 086, Loss: 1.3395, Train: 1.3395, Val: 1.3395\n",
      "Epoch: 087, Loss: 1.3395, Train: 1.3394, Val: 1.3394\n",
      "Epoch: 088, Loss: 1.3394, Train: 1.3394, Val: 1.3394\n",
      "Epoch: 089, Loss: 1.3394, Train: 1.3394, Val: 1.3394\n",
      "Epoch: 090, Loss: 1.3394, Train: 1.3394, Val: 1.3394\n",
      "Epoch: 091, Loss: 1.3394, Train: 1.3394, Val: 1.3394\n",
      "Epoch: 092, Loss: 1.3394, Train: 1.3395, Val: 1.3395\n",
      "Epoch: 093, Loss: 1.3395, Train: 1.3395, Val: 1.3395\n",
      "Epoch: 094, Loss: 1.3395, Train: 1.3395, Val: 1.3395\n",
      "Epoch: 095, Loss: 1.3395, Train: 1.3395, Val: 1.3395\n",
      "Epoch: 096, Loss: 1.3395, Train: 1.3395, Val: 1.3395\n",
      "Epoch: 097, Loss: 1.3395, Train: 1.3395, Val: 1.3395\n",
      "Epoch: 098, Loss: 1.3395, Train: 1.3395, Val: 1.3395\n",
      "Epoch: 099, Loss: 1.3395, Train: 1.3395, Val: 1.3395\n",
      "Epoch: 100, Loss: 1.3395, Train: 1.3395, Val: 1.3395\n",
      "Epoch: 101, Loss: 1.3395, Train: 1.3395, Val: 1.3395\n",
      "Epoch: 102, Loss: 1.3395, Train: 1.3394, Val: 1.3394\n",
      "Epoch: 103, Loss: 1.3394, Train: 1.3394, Val: 1.3394\n",
      "Epoch: 104, Loss: 1.3394, Train: 1.3394, Val: 1.3394\n",
      "Epoch: 105, Loss: 1.3394, Train: 1.3394, Val: 1.3394\n",
      "Epoch: 106, Loss: 1.3394, Train: 1.3394, Val: 1.3394\n",
      "Epoch: 107, Loss: 1.3394, Train: 1.3394, Val: 1.3394\n",
      "Epoch: 108, Loss: 1.3394, Train: 1.3394, Val: 1.3394\n",
      "Epoch: 109, Loss: 1.3394, Train: 1.3394, Val: 1.3394\n",
      "Epoch: 110, Loss: 1.3394, Train: 1.3394, Val: 1.3394\n",
      "Epoch: 111, Loss: 1.3394, Train: 1.3394, Val: 1.3394\n",
      "Epoch: 112, Loss: 1.3394, Train: 1.3394, Val: 1.3394\n",
      "Epoch: 113, Loss: 1.3394, Train: 1.3394, Val: 1.3394\n",
      "Epoch: 114, Loss: 1.3394, Train: 1.3394, Val: 1.3394\n",
      "Epoch: 115, Loss: 1.3394, Train: 1.3394, Val: 1.3394\n",
      "Epoch: 116, Loss: 1.3394, Train: 1.3394, Val: 1.3394\n",
      "Epoch: 117, Loss: 1.3394, Train: 1.3394, Val: 1.3394\n",
      "Epoch: 118, Loss: 1.3394, Train: 1.3394, Val: 1.3394\n",
      "Epoch: 119, Loss: 1.3394, Train: 1.3394, Val: 1.3394\n",
      "Epoch: 120, Loss: 1.3394, Train: 1.3394, Val: 1.3394\n",
      "Epoch: 121, Loss: 1.3394, Train: 1.3394, Val: 1.3394\n",
      "Epoch: 122, Loss: 1.3394, Train: 1.3394, Val: 1.3394\n",
      "Epoch: 123, Loss: 1.3394, Train: 1.3394, Val: 1.3394\n",
      "Epoch: 124, Loss: 1.3394, Train: 1.3394, Val: 1.3394\n",
      "Epoch: 125, Loss: 1.3394, Train: 1.3394, Val: 1.3394\n",
      "Epoch: 126, Loss: 1.3394, Train: 1.3394, Val: 1.3394\n",
      "Epoch: 127, Loss: 1.3394, Train: 1.3394, Val: 1.3394\n",
      "Epoch: 128, Loss: 1.3394, Train: 1.3394, Val: 1.3394\n",
      "Epoch: 129, Loss: 1.3394, Train: 1.3394, Val: 1.3394\n",
      "Epoch: 130, Loss: 1.3394, Train: 1.3394, Val: 1.3394\n",
      "Epoch: 131, Loss: 1.3394, Train: 1.3394, Val: 1.3394\n",
      "Epoch: 132, Loss: 1.3394, Train: 1.3394, Val: 1.3394\n",
      "Epoch: 133, Loss: 1.3394, Train: 1.3394, Val: 1.3394\n",
      "Epoch: 134, Loss: 1.3394, Train: 1.3394, Val: 1.3394\n",
      "Epoch: 135, Loss: 1.3394, Train: 1.3394, Val: 1.3394\n",
      "Epoch: 136, Loss: 1.3394, Train: 1.3394, Val: 1.3394\n",
      "Epoch: 137, Loss: 1.3394, Train: 1.3394, Val: 1.3394\n",
      "Epoch: 138, Loss: 1.3394, Train: 1.3394, Val: 1.3394\n",
      "Epoch: 139, Loss: 1.3394, Train: 1.3394, Val: 1.3394\n",
      "Epoch: 140, Loss: 1.3394, Train: 1.3394, Val: 1.3394\n",
      "Epoch: 141, Loss: 1.3394, Train: 1.3394, Val: 1.3394\n",
      "Epoch: 142, Loss: 1.3394, Train: 1.3394, Val: 1.3394\n",
      "Epoch: 143, Loss: 1.3394, Train: 1.3394, Val: 1.3394\n",
      "Epoch: 144, Loss: 1.3394, Train: 1.3394, Val: 1.3394\n",
      "Epoch: 145, Loss: 1.3394, Train: 1.3394, Val: 1.3394\n",
      "Epoch: 146, Loss: 1.3394, Train: 1.3394, Val: 1.3394\n",
      "Epoch: 147, Loss: 1.3394, Train: 1.3394, Val: 1.3394\n",
      "Epoch: 148, Loss: 1.3394, Train: 1.3394, Val: 1.3394\n",
      "Epoch: 149, Loss: 1.3394, Train: 1.3394, Val: 1.3394\n",
      "Epoch: 150, Loss: 1.3394, Train: 1.3394, Val: 1.3394\n",
      "Epoch: 151, Loss: 1.3394, Train: 1.3394, Val: 1.3394\n",
      "Epoch: 152, Loss: 1.3394, Train: 1.3394, Val: 1.3394\n",
      "Epoch: 153, Loss: 1.3394, Train: 1.3394, Val: 1.3394\n",
      "Epoch: 154, Loss: 1.3394, Train: 1.3394, Val: 1.3394\n",
      "Epoch: 155, Loss: 1.3394, Train: 1.3394, Val: 1.3394\n",
      "Epoch: 156, Loss: 1.3394, Train: 1.3394, Val: 1.3394\n",
      "Epoch: 157, Loss: 1.3394, Train: 1.3394, Val: 1.3394\n",
      "Epoch: 158, Loss: 1.3394, Train: 1.3394, Val: 1.3394\n",
      "Epoch: 159, Loss: 1.3394, Train: 1.3394, Val: 1.3394\n",
      "Epoch: 160, Loss: 1.3394, Train: 1.3394, Val: 1.3394\n",
      "Epoch: 161, Loss: 1.3394, Train: 1.3394, Val: 1.3394\n",
      "Epoch: 162, Loss: 1.3394, Train: 1.3394, Val: 1.3394\n",
      "Epoch: 163, Loss: 1.3394, Train: 1.3394, Val: 1.3394\n",
      "Epoch: 164, Loss: 1.3394, Train: 1.3394, Val: 1.3394\n",
      "Epoch: 165, Loss: 1.3394, Train: 1.3394, Val: 1.3394\n",
      "Epoch: 166, Loss: 1.3394, Train: 1.3394, Val: 1.3394\n",
      "Epoch: 167, Loss: 1.3394, Train: 1.3394, Val: 1.3394\n",
      "Epoch: 168, Loss: 1.3394, Train: 1.3394, Val: 1.3394\n",
      "Epoch: 169, Loss: 1.3394, Train: 1.3394, Val: 1.3394\n",
      "Epoch: 170, Loss: 1.3394, Train: 1.3394, Val: 1.3394\n",
      "Epoch: 171, Loss: 1.3394, Train: 1.3394, Val: 1.3394\n",
      "Epoch: 172, Loss: 1.3394, Train: 1.3394, Val: 1.3394\n",
      "Epoch: 173, Loss: 1.3394, Train: 1.3394, Val: 1.3394\n",
      "Epoch: 174, Loss: 1.3394, Train: 1.3394, Val: 1.3394\n",
      "Epoch: 175, Loss: 1.3394, Train: 1.3394, Val: 1.3394\n",
      "Epoch: 176, Loss: 1.3394, Train: 1.3394, Val: 1.3394\n",
      "Epoch: 177, Loss: 1.3394, Train: 1.3394, Val: 1.3394\n",
      "Epoch: 178, Loss: 1.3394, Train: 1.3394, Val: 1.3394\n",
      "Epoch: 179, Loss: 1.3394, Train: 1.3394, Val: 1.3394\n",
      "Epoch: 180, Loss: 1.3394, Train: 1.3394, Val: 1.3394\n",
      "Epoch: 181, Loss: 1.3394, Train: 1.3394, Val: 1.3394\n",
      "Epoch: 182, Loss: 1.3394, Train: 1.3394, Val: 1.3394\n",
      "Epoch: 183, Loss: 1.3394, Train: 1.3394, Val: 1.3394\n",
      "Epoch: 184, Loss: 1.3394, Train: 1.3394, Val: 1.3394\n",
      "Epoch: 185, Loss: 1.3394, Train: 1.3394, Val: 1.3394\n",
      "Epoch: 186, Loss: 1.3394, Train: 1.3394, Val: 1.3394\n",
      "Epoch: 187, Loss: 1.3394, Train: 1.3394, Val: 1.3394\n",
      "Epoch: 188, Loss: 1.3394, Train: 1.3394, Val: 1.3394\n",
      "Epoch: 189, Loss: 1.3394, Train: 1.3394, Val: 1.3394\n",
      "Epoch: 190, Loss: 1.3394, Train: 1.3394, Val: 1.3394\n",
      "Epoch: 191, Loss: 1.3394, Train: 1.3394, Val: 1.3394\n",
      "Epoch: 192, Loss: 1.3394, Train: 1.3394, Val: 1.3394\n",
      "Epoch: 193, Loss: 1.3394, Train: 1.3394, Val: 1.3394\n",
      "Epoch: 194, Loss: 1.3394, Train: 1.3394, Val: 1.3394\n",
      "Epoch: 195, Loss: 1.3394, Train: 1.3394, Val: 1.3394\n",
      "Epoch: 196, Loss: 1.3394, Train: 1.3394, Val: 1.3394\n",
      "Epoch: 197, Loss: 1.3394, Train: 1.3394, Val: 1.3394\n",
      "Epoch: 198, Loss: 1.3394, Train: 1.3394, Val: 1.3394\n",
      "Epoch: 199, Loss: 1.3394, Train: 1.3394, Val: 1.3394\n",
      "Epoch: 200, Loss: 1.3394, Train: 1.3394, Val: 1.3394\n",
      "Epoch: 201, Loss: 1.3394, Train: 1.3394, Val: 1.3394\n",
      "Epoch: 202, Loss: 1.3394, Train: 1.3394, Val: 1.3394\n",
      "Epoch: 203, Loss: 1.3394, Train: 1.3394, Val: 1.3394\n",
      "Epoch: 204, Loss: 1.3394, Train: 1.3394, Val: 1.3394\n",
      "Epoch: 205, Loss: 1.3394, Train: 1.3394, Val: 1.3394\n",
      "Epoch: 206, Loss: 1.3394, Train: 1.3394, Val: 1.3394\n",
      "Epoch: 207, Loss: 1.3394, Train: 1.3394, Val: 1.3394\n",
      "Epoch: 208, Loss: 1.3394, Train: 1.3394, Val: 1.3394\n",
      "Epoch: 209, Loss: 1.3394, Train: 1.3394, Val: 1.3394\n",
      "Epoch: 210, Loss: 1.3394, Train: 1.3394, Val: 1.3394\n",
      "Epoch: 211, Loss: 1.3394, Train: 1.3394, Val: 1.3394\n",
      "Epoch: 212, Loss: 1.3394, Train: 1.3394, Val: 1.3394\n",
      "Epoch: 213, Loss: 1.3394, Train: 1.3394, Val: 1.3394\n",
      "Epoch: 214, Loss: 1.3394, Train: 1.3394, Val: 1.3394\n",
      "Epoch: 215, Loss: 1.3394, Train: 1.3394, Val: 1.3394\n",
      "Epoch: 216, Loss: 1.3394, Train: 1.3394, Val: 1.3394\n",
      "Epoch: 217, Loss: 1.3394, Train: 1.3394, Val: 1.3394\n",
      "Epoch: 218, Loss: 1.3394, Train: 1.3394, Val: 1.3394\n",
      "Epoch: 219, Loss: 1.3394, Train: 1.3394, Val: 1.3394\n",
      "Epoch: 220, Loss: 1.3394, Train: 1.3394, Val: 1.3394\n",
      "Epoch: 221, Loss: 1.3394, Train: 1.3394, Val: 1.3394\n",
      "Epoch: 222, Loss: 1.3394, Train: 1.3394, Val: 1.3394\n",
      "Epoch: 223, Loss: 1.3394, Train: 1.3394, Val: 1.3394\n",
      "Epoch: 224, Loss: 1.3394, Train: 1.3394, Val: 1.3394\n",
      "Epoch: 225, Loss: 1.3394, Train: 1.3394, Val: 1.3394\n",
      "Epoch: 226, Loss: 1.3394, Train: 1.3394, Val: 1.3394\n",
      "Epoch: 227, Loss: 1.3394, Train: 1.3394, Val: 1.3394\n",
      "Epoch: 228, Loss: 1.3394, Train: 1.3394, Val: 1.3394\n",
      "Epoch: 229, Loss: 1.3394, Train: 1.3394, Val: 1.3394\n",
      "Epoch: 230, Loss: 1.3394, Train: 1.3394, Val: 1.3394\n",
      "Epoch: 231, Loss: 1.3394, Train: 1.3394, Val: 1.3394\n",
      "Epoch: 232, Loss: 1.3394, Train: 1.3394, Val: 1.3394\n",
      "Epoch: 233, Loss: 1.3394, Train: 1.3394, Val: 1.3394\n",
      "Epoch: 234, Loss: 1.3394, Train: 1.3394, Val: 1.3394\n",
      "Epoch: 235, Loss: 1.3394, Train: 1.3394, Val: 1.3394\n",
      "Epoch: 236, Loss: 1.3394, Train: 1.3394, Val: 1.3394\n",
      "Epoch: 237, Loss: 1.3394, Train: 1.3394, Val: 1.3394\n",
      "Epoch: 238, Loss: 1.3394, Train: 1.3394, Val: 1.3394\n",
      "Epoch: 239, Loss: 1.3394, Train: 1.3394, Val: 1.3394\n",
      "Epoch: 240, Loss: 1.3394, Train: 1.3394, Val: 1.3394\n",
      "Epoch: 241, Loss: 1.3394, Train: 1.3394, Val: 1.3394\n",
      "Epoch: 242, Loss: 1.3394, Train: 1.3394, Val: 1.3394\n",
      "Epoch: 243, Loss: 1.3394, Train: 1.3394, Val: 1.3394\n",
      "Epoch: 244, Loss: 1.3394, Train: 1.3394, Val: 1.3394\n",
      "Epoch: 245, Loss: 1.3394, Train: 1.3394, Val: 1.3394\n",
      "Epoch: 246, Loss: 1.3394, Train: 1.3394, Val: 1.3394\n",
      "Epoch: 247, Loss: 1.3394, Train: 1.3394, Val: 1.3394\n",
      "Epoch: 248, Loss: 1.3394, Train: 1.3394, Val: 1.3394\n",
      "Epoch: 249, Loss: 1.3394, Train: 1.3394, Val: 1.3394\n",
      "Epoch: 250, Loss: 1.3394, Train: 1.3394, Val: 1.3394\n",
      "Epoch: 251, Loss: 1.3394, Train: 1.3394, Val: 1.3394\n",
      "Epoch: 252, Loss: 1.3394, Train: 1.3394, Val: 1.3394\n",
      "Epoch: 253, Loss: 1.3394, Train: 1.3394, Val: 1.3394\n",
      "Epoch: 254, Loss: 1.3394, Train: 1.3394, Val: 1.3394\n",
      "Epoch: 255, Loss: 1.3394, Train: 1.3394, Val: 1.3394\n",
      "Epoch: 256, Loss: 1.3394, Train: 1.3394, Val: 1.3394\n",
      "Epoch: 257, Loss: 1.3394, Train: 1.3394, Val: 1.3394\n",
      "Epoch: 258, Loss: 1.3394, Train: 1.3394, Val: 1.3394\n",
      "Epoch: 259, Loss: 1.3394, Train: 1.3394, Val: 1.3394\n",
      "Epoch: 260, Loss: 1.3394, Train: 1.3394, Val: 1.3394\n",
      "Epoch: 261, Loss: 1.3394, Train: 1.3394, Val: 1.3394\n",
      "Epoch: 262, Loss: 1.3394, Train: 1.3394, Val: 1.3394\n",
      "Epoch: 263, Loss: 1.3394, Train: 1.3394, Val: 1.3394\n",
      "Epoch: 264, Loss: 1.3394, Train: 1.3394, Val: 1.3394\n",
      "Epoch: 265, Loss: 1.3394, Train: 1.3394, Val: 1.3394\n",
      "Epoch: 266, Loss: 1.3394, Train: 1.3394, Val: 1.3394\n",
      "Epoch: 267, Loss: 1.3394, Train: 1.3394, Val: 1.3394\n",
      "Epoch: 268, Loss: 1.3394, Train: 1.3394, Val: 1.3394\n",
      "Epoch: 269, Loss: 1.3394, Train: 1.3394, Val: 1.3394\n",
      "Epoch: 270, Loss: 1.3394, Train: 1.3394, Val: 1.3394\n",
      "Epoch: 271, Loss: 1.3394, Train: 1.3394, Val: 1.3394\n",
      "Epoch: 272, Loss: 1.3394, Train: 1.3394, Val: 1.3394\n",
      "Epoch: 273, Loss: 1.3394, Train: 1.3394, Val: 1.3394\n",
      "Epoch: 274, Loss: 1.3394, Train: 1.3394, Val: 1.3394\n",
      "Epoch: 275, Loss: 1.3394, Train: 1.3394, Val: 1.3394\n",
      "Epoch: 276, Loss: 1.3394, Train: 1.3394, Val: 1.3394\n",
      "Epoch: 277, Loss: 1.3394, Train: 1.3394, Val: 1.3394\n",
      "Epoch: 278, Loss: 1.3394, Train: 1.3394, Val: 1.3394\n",
      "Epoch: 279, Loss: 1.3394, Train: 1.3394, Val: 1.3394\n",
      "Epoch: 280, Loss: 1.3394, Train: 1.3394, Val: 1.3394\n",
      "Epoch: 281, Loss: 1.3394, Train: 1.3394, Val: 1.3394\n",
      "Epoch: 282, Loss: 1.3394, Train: 1.3394, Val: 1.3394\n",
      "Epoch: 283, Loss: 1.3394, Train: 1.3394, Val: 1.3394\n",
      "Epoch: 284, Loss: 1.3394, Train: 1.3394, Val: 1.3394\n",
      "Epoch: 285, Loss: 1.3394, Train: 1.3394, Val: 1.3394\n",
      "Epoch: 286, Loss: 1.3394, Train: 1.3394, Val: 1.3394\n",
      "Epoch: 287, Loss: 1.3394, Train: 1.3394, Val: 1.3394\n",
      "Epoch: 288, Loss: 1.3394, Train: 1.3394, Val: 1.3394\n",
      "Epoch: 289, Loss: 1.3394, Train: 1.3394, Val: 1.3394\n",
      "Epoch: 290, Loss: 1.3394, Train: 1.3394, Val: 1.3394\n",
      "Epoch: 291, Loss: 1.3394, Train: 1.3394, Val: 1.3394\n",
      "Epoch: 292, Loss: 1.3394, Train: 1.3394, Val: 1.3394\n",
      "Epoch: 293, Loss: 1.3394, Train: 1.3394, Val: 1.3394\n",
      "Epoch: 294, Loss: 1.3394, Train: 1.3394, Val: 1.3394\n",
      "Epoch: 295, Loss: 1.3394, Train: 1.3394, Val: 1.3394\n",
      "Epoch: 296, Loss: 1.3394, Train: 1.3394, Val: 1.3394\n",
      "Epoch: 297, Loss: 1.3394, Train: 1.3394, Val: 1.3394\n",
      "Epoch: 298, Loss: 1.3394, Train: 1.3394, Val: 1.3394\n",
      "Epoch: 299, Loss: 1.3394, Train: 1.3394, Val: 1.3394\n",
      "Epoch: 300, Loss: 1.3394, Train: 1.3394, Val: 1.3394\n",
      "Epoch: 301, Loss: 1.3394, Train: 1.3394, Val: 1.3394\n",
      "Epoch: 302, Loss: 1.3394, Train: 1.3394, Val: 1.3394\n",
      "Epoch: 303, Loss: 1.3394, Train: 1.3394, Val: 1.3394\n",
      "Epoch: 304, Loss: 1.3394, Train: 1.3394, Val: 1.3394\n",
      "Epoch: 305, Loss: 1.3394, Train: 1.3394, Val: 1.3394\n",
      "Epoch: 306, Loss: 1.3394, Train: 1.3394, Val: 1.3394\n",
      "Epoch: 307, Loss: 1.3394, Train: 1.3394, Val: 1.3394\n",
      "Epoch: 308, Loss: 1.3394, Train: 1.3394, Val: 1.3394\n",
      "Epoch: 309, Loss: 1.3394, Train: 1.3394, Val: 1.3394\n",
      "Epoch: 310, Loss: 1.3394, Train: 1.3394, Val: 1.3394\n",
      "Epoch: 311, Loss: 1.3394, Train: 1.3394, Val: 1.3394\n",
      "Epoch: 312, Loss: 1.3394, Train: 1.3394, Val: 1.3394\n",
      "Epoch: 313, Loss: 1.3394, Train: 1.3394, Val: 1.3394\n",
      "Epoch: 314, Loss: 1.3394, Train: 1.3394, Val: 1.3394\n",
      "Epoch: 315, Loss: 1.3394, Train: 1.3394, Val: 1.3394\n",
      "Epoch: 316, Loss: 1.3394, Train: 1.3394, Val: 1.3394\n",
      "Epoch: 317, Loss: 1.3394, Train: 1.3394, Val: 1.3394\n",
      "Epoch: 318, Loss: 1.3394, Train: 1.3394, Val: 1.3394\n",
      "Epoch: 319, Loss: 1.3394, Train: 1.3394, Val: 1.3394\n",
      "Epoch: 320, Loss: 1.3394, Train: 1.3394, Val: 1.3394\n",
      "Epoch: 321, Loss: 1.3394, Train: 1.3394, Val: 1.3394\n",
      "Epoch: 322, Loss: 1.3394, Train: 1.3394, Val: 1.3394\n",
      "Epoch: 323, Loss: 1.3394, Train: 1.3394, Val: 1.3394\n",
      "Epoch: 324, Loss: 1.3394, Train: 1.3394, Val: 1.3394\n",
      "Epoch: 325, Loss: 1.3394, Train: 1.3394, Val: 1.3394\n",
      "Epoch: 326, Loss: 1.3394, Train: 1.3394, Val: 1.3394\n",
      "Epoch: 327, Loss: 1.3394, Train: 1.3394, Val: 1.3394\n",
      "Epoch: 328, Loss: 1.3394, Train: 1.3394, Val: 1.3394\n",
      "Epoch: 329, Loss: 1.3394, Train: 1.3394, Val: 1.3394\n",
      "Epoch: 330, Loss: 1.3394, Train: 1.3394, Val: 1.3394\n",
      "Epoch: 331, Loss: 1.3394, Train: 1.3394, Val: 1.3394\n",
      "Epoch: 332, Loss: 1.3394, Train: 1.3394, Val: 1.3394\n",
      "Epoch: 333, Loss: 1.3394, Train: 1.3394, Val: 1.3394\n",
      "Epoch: 334, Loss: 1.3394, Train: 1.3394, Val: 1.3394\n",
      "Epoch: 335, Loss: 1.3394, Train: 1.3394, Val: 1.3394\n",
      "Epoch: 336, Loss: 1.3394, Train: 1.3394, Val: 1.3394\n",
      "Epoch: 337, Loss: 1.3394, Train: 1.3394, Val: 1.3394\n",
      "Epoch: 338, Loss: 1.3394, Train: 1.3394, Val: 1.3394\n",
      "Epoch: 339, Loss: 1.3394, Train: 1.3394, Val: 1.3394\n",
      "Epoch: 340, Loss: 1.3394, Train: 1.3394, Val: 1.3394\n",
      "Epoch: 341, Loss: 1.3394, Train: 1.3394, Val: 1.3394\n",
      "Epoch: 342, Loss: 1.3394, Train: 1.3394, Val: 1.3394\n",
      "Epoch: 343, Loss: 1.3394, Train: 1.3394, Val: 1.3394\n",
      "Epoch: 344, Loss: 1.3394, Train: 1.3394, Val: 1.3394\n",
      "Epoch: 345, Loss: 1.3394, Train: 1.3394, Val: 1.3394\n",
      "Epoch: 346, Loss: 1.3394, Train: 1.3394, Val: 1.3394\n",
      "Epoch: 347, Loss: 1.3394, Train: 1.3394, Val: 1.3394\n",
      "Epoch: 348, Loss: 1.3394, Train: 1.3394, Val: 1.3394\n",
      "Epoch: 349, Loss: 1.3394, Train: 1.3394, Val: 1.3394\n",
      "Epoch: 350, Loss: 1.3394, Train: 1.3394, Val: 1.3394\n",
      "Epoch: 351, Loss: 1.3394, Train: 1.3394, Val: 1.3394\n",
      "Epoch: 352, Loss: 1.3394, Train: 1.3394, Val: 1.3394\n",
      "Epoch: 353, Loss: 1.3394, Train: 1.3394, Val: 1.3394\n",
      "Epoch: 354, Loss: 1.3394, Train: 1.3394, Val: 1.3394\n",
      "Epoch: 355, Loss: 1.3394, Train: 1.3394, Val: 1.3394\n",
      "Epoch: 356, Loss: 1.3394, Train: 1.3394, Val: 1.3394\n",
      "Epoch: 357, Loss: 1.3394, Train: 1.3394, Val: 1.3394\n",
      "Epoch: 358, Loss: 1.3394, Train: 1.3394, Val: 1.3394\n",
      "Epoch: 359, Loss: 1.3394, Train: 1.3394, Val: 1.3394\n",
      "Epoch: 360, Loss: 1.3394, Train: 1.3394, Val: 1.3394\n",
      "Epoch: 361, Loss: 1.3394, Train: 1.3394, Val: 1.3394\n",
      "Epoch: 362, Loss: 1.3394, Train: 1.3394, Val: 1.3394\n",
      "Epoch: 363, Loss: 1.3394, Train: 1.3394, Val: 1.3394\n",
      "Epoch: 364, Loss: 1.3394, Train: 1.3394, Val: 1.3394\n",
      "Epoch: 365, Loss: 1.3394, Train: 1.3394, Val: 1.3394\n",
      "Epoch: 366, Loss: 1.3394, Train: 1.3394, Val: 1.3394\n",
      "Epoch: 367, Loss: 1.3394, Train: 1.3394, Val: 1.3394\n",
      "Epoch: 368, Loss: 1.3394, Train: 1.3394, Val: 1.3394\n",
      "Epoch: 369, Loss: 1.3394, Train: 1.3394, Val: 1.3394\n",
      "Epoch: 370, Loss: 1.3394, Train: 1.3394, Val: 1.3394\n",
      "Epoch: 371, Loss: 1.3394, Train: 1.3394, Val: 1.3394\n",
      "Epoch: 372, Loss: 1.3394, Train: 1.3394, Val: 1.3394\n",
      "Epoch: 373, Loss: 1.3394, Train: 1.3394, Val: 1.3394\n",
      "Epoch: 374, Loss: 1.3394, Train: 1.3394, Val: 1.3394\n",
      "Epoch: 375, Loss: 1.3394, Train: 1.3394, Val: 1.3394\n",
      "Epoch: 376, Loss: 1.3394, Train: 1.3394, Val: 1.3394\n",
      "Epoch: 377, Loss: 1.3394, Train: 1.3394, Val: 1.3394\n",
      "Epoch: 378, Loss: 1.3394, Train: 1.3394, Val: 1.3394\n",
      "Epoch: 379, Loss: 1.3394, Train: 1.3394, Val: 1.3394\n",
      "Epoch: 380, Loss: 1.3394, Train: 1.3394, Val: 1.3394\n",
      "Epoch: 381, Loss: 1.3394, Train: 1.3394, Val: 1.3394\n",
      "Epoch: 382, Loss: 1.3394, Train: 1.3394, Val: 1.3394\n",
      "Epoch: 383, Loss: 1.3394, Train: 1.3394, Val: 1.3394\n",
      "Epoch: 384, Loss: 1.3394, Train: 1.3394, Val: 1.3394\n",
      "Epoch: 385, Loss: 1.3394, Train: 1.3394, Val: 1.3394\n",
      "Epoch: 386, Loss: 1.3394, Train: 1.3394, Val: 1.3394\n",
      "Epoch: 387, Loss: 1.3394, Train: 1.3394, Val: 1.3394\n",
      "Epoch: 388, Loss: 1.3394, Train: 1.3394, Val: 1.3394\n",
      "Epoch: 389, Loss: 1.3394, Train: 1.3394, Val: 1.3394\n",
      "Epoch: 390, Loss: 1.3394, Train: 1.3394, Val: 1.3394\n",
      "Epoch: 391, Loss: 1.3394, Train: 1.3394, Val: 1.3394\n",
      "Epoch: 392, Loss: 1.3394, Train: 1.3394, Val: 1.3394\n",
      "Epoch: 393, Loss: 1.3394, Train: 1.3394, Val: 1.3394\n",
      "Epoch: 394, Loss: 1.3394, Train: 1.3394, Val: 1.3394\n",
      "Epoch: 395, Loss: 1.3394, Train: 1.3394, Val: 1.3394\n",
      "Epoch: 396, Loss: 1.3394, Train: 1.3394, Val: 1.3394\n",
      "Epoch: 397, Loss: 1.3394, Train: 1.3394, Val: 1.3394\n",
      "Epoch: 398, Loss: 1.3394, Train: 1.3394, Val: 1.3394\n",
      "Epoch: 399, Loss: 1.3394, Train: 1.3394, Val: 1.3394\n",
      "Epoch: 400, Loss: 1.3394, Train: 1.3394, Val: 1.3394\n",
      "Epoch: 401, Loss: 1.3394, Train: 1.3394, Val: 1.3394\n",
      "Epoch: 402, Loss: 1.3394, Train: 1.3394, Val: 1.3394\n",
      "Epoch: 403, Loss: 1.3394, Train: 1.3394, Val: 1.3394\n",
      "Epoch: 404, Loss: 1.3394, Train: 1.3394, Val: 1.3394\n",
      "Epoch: 405, Loss: 1.3394, Train: 1.3394, Val: 1.3394\n",
      "Epoch: 406, Loss: 1.3394, Train: 1.3394, Val: 1.3394\n",
      "Epoch: 407, Loss: 1.3394, Train: 1.3394, Val: 1.3394\n",
      "Epoch: 408, Loss: 1.3394, Train: 1.3394, Val: 1.3394\n",
      "Epoch: 409, Loss: 1.3394, Train: 1.3394, Val: 1.3394\n",
      "Epoch: 410, Loss: 1.3394, Train: 1.3394, Val: 1.3394\n",
      "Epoch: 411, Loss: 1.3394, Train: 1.3394, Val: 1.3394\n",
      "Epoch: 412, Loss: 1.3394, Train: 1.3394, Val: 1.3394\n",
      "Epoch: 413, Loss: 1.3394, Train: 1.3394, Val: 1.3394\n",
      "Epoch: 414, Loss: 1.3394, Train: 1.3394, Val: 1.3394\n",
      "Epoch: 415, Loss: 1.3394, Train: 1.3394, Val: 1.3394\n",
      "Epoch: 416, Loss: 1.3394, Train: 1.3394, Val: 1.3394\n",
      "Epoch: 417, Loss: 1.3394, Train: 1.3394, Val: 1.3394\n",
      "Epoch: 418, Loss: 1.3394, Train: 1.3394, Val: 1.3394\n",
      "Epoch: 419, Loss: 1.3394, Train: 1.3394, Val: 1.3394\n",
      "Epoch: 420, Loss: 1.3394, Train: 1.3394, Val: 1.3394\n",
      "Epoch: 421, Loss: 1.3394, Train: 1.3394, Val: 1.3394\n",
      "Epoch: 422, Loss: 1.3394, Train: 1.3394, Val: 1.3394\n",
      "Epoch: 423, Loss: 1.3394, Train: 1.3394, Val: 1.3394\n",
      "Epoch: 424, Loss: 1.3394, Train: 1.3394, Val: 1.3394\n",
      "Epoch: 425, Loss: 1.3394, Train: 1.3394, Val: 1.3394\n",
      "Epoch: 426, Loss: 1.3394, Train: 1.3394, Val: 1.3394\n",
      "Epoch: 427, Loss: 1.3394, Train: 1.3394, Val: 1.3394\n",
      "Epoch: 428, Loss: 1.3394, Train: 1.3394, Val: 1.3394\n",
      "Epoch: 429, Loss: 1.3394, Train: 1.3394, Val: 1.3394\n",
      "Epoch: 430, Loss: 1.3394, Train: 1.3394, Val: 1.3394\n",
      "Epoch: 431, Loss: 1.3394, Train: 1.3394, Val: 1.3394\n",
      "Epoch: 432, Loss: 1.3394, Train: 1.3394, Val: 1.3394\n",
      "Epoch: 433, Loss: 1.3394, Train: 1.3394, Val: 1.3394\n",
      "Epoch: 434, Loss: 1.3394, Train: 1.3394, Val: 1.3394\n",
      "Epoch: 435, Loss: 1.3394, Train: 1.3394, Val: 1.3394\n",
      "Epoch: 436, Loss: 1.3394, Train: 1.3394, Val: 1.3394\n",
      "Epoch: 437, Loss: 1.3394, Train: 1.3394, Val: 1.3394\n",
      "Epoch: 438, Loss: 1.3394, Train: 1.3394, Val: 1.3394\n",
      "Epoch: 439, Loss: 1.3394, Train: 1.3394, Val: 1.3394\n",
      "Epoch: 440, Loss: 1.3394, Train: 1.3394, Val: 1.3394\n",
      "Epoch: 441, Loss: 1.3394, Train: 1.3394, Val: 1.3394\n",
      "Epoch: 442, Loss: 1.3394, Train: 1.3394, Val: 1.3394\n",
      "Epoch: 443, Loss: 1.3394, Train: 1.3394, Val: 1.3394\n",
      "Epoch: 444, Loss: 1.3394, Train: 1.3394, Val: 1.3394\n",
      "Epoch: 445, Loss: 1.3394, Train: 1.3394, Val: 1.3394\n",
      "Epoch: 446, Loss: 1.3394, Train: 1.3394, Val: 1.3394\n",
      "Epoch: 447, Loss: 1.3394, Train: 1.3394, Val: 1.3394\n",
      "Epoch: 448, Loss: 1.3394, Train: 1.3394, Val: 1.3394\n",
      "Epoch: 449, Loss: 1.3394, Train: 1.3394, Val: 1.3394\n",
      "Epoch: 450, Loss: 1.3394, Train: 1.3394, Val: 1.3394\n",
      "Epoch: 451, Loss: 1.3394, Train: 1.3394, Val: 1.3394\n",
      "Epoch: 452, Loss: 1.3394, Train: 1.3394, Val: 1.3394\n",
      "Epoch: 453, Loss: 1.3394, Train: 1.3394, Val: 1.3394\n",
      "Epoch: 454, Loss: 1.3394, Train: 1.3394, Val: 1.3394\n",
      "Epoch: 455, Loss: 1.3394, Train: 1.3394, Val: 1.3394\n",
      "Epoch: 456, Loss: 1.3394, Train: 1.3394, Val: 1.3394\n",
      "Epoch: 457, Loss: 1.3394, Train: 1.3394, Val: 1.3394\n",
      "Epoch: 458, Loss: 1.3394, Train: 1.3394, Val: 1.3394\n",
      "Epoch: 459, Loss: 1.3394, Train: 1.3394, Val: 1.3394\n",
      "Epoch: 460, Loss: 1.3394, Train: 1.3394, Val: 1.3394\n",
      "Epoch: 461, Loss: 1.3394, Train: 1.3394, Val: 1.3394\n",
      "Epoch: 462, Loss: 1.3394, Train: 1.3394, Val: 1.3394\n",
      "Epoch: 463, Loss: 1.3394, Train: 1.3394, Val: 1.3394\n",
      "Epoch: 464, Loss: 1.3394, Train: 1.3394, Val: 1.3394\n",
      "Epoch: 465, Loss: 1.3394, Train: 1.3394, Val: 1.3394\n",
      "Epoch: 466, Loss: 1.3394, Train: 1.3394, Val: 1.3394\n",
      "Epoch: 467, Loss: 1.3394, Train: 1.3394, Val: 1.3394\n",
      "Epoch: 468, Loss: 1.3394, Train: 1.3394, Val: 1.3394\n",
      "Epoch: 469, Loss: 1.3394, Train: 1.3394, Val: 1.3394\n",
      "Epoch: 470, Loss: 1.3394, Train: 1.3394, Val: 1.3394\n",
      "Epoch: 471, Loss: 1.3394, Train: 1.3394, Val: 1.3394\n",
      "Epoch: 472, Loss: 1.3394, Train: 1.3394, Val: 1.3394\n",
      "Epoch: 473, Loss: 1.3394, Train: 1.3394, Val: 1.3394\n",
      "Epoch: 474, Loss: 1.3394, Train: 1.3394, Val: 1.3394\n",
      "Epoch: 475, Loss: 1.3394, Train: 1.3394, Val: 1.3394\n",
      "Epoch: 476, Loss: 1.3394, Train: 1.3394, Val: 1.3394\n",
      "Epoch: 477, Loss: 1.3394, Train: 1.3394, Val: 1.3394\n",
      "Epoch: 478, Loss: 1.3394, Train: 1.3394, Val: 1.3394\n",
      "Epoch: 479, Loss: 1.3394, Train: 1.3394, Val: 1.3394\n",
      "Epoch: 480, Loss: 1.3394, Train: 1.3394, Val: 1.3394\n",
      "Epoch: 481, Loss: 1.3394, Train: 1.3394, Val: 1.3394\n",
      "Epoch: 482, Loss: 1.3394, Train: 1.3394, Val: 1.3394\n",
      "Epoch: 483, Loss: 1.3394, Train: 1.3394, Val: 1.3394\n",
      "Epoch: 484, Loss: 1.3394, Train: 1.3394, Val: 1.3394\n",
      "Epoch: 485, Loss: 1.3394, Train: 1.3394, Val: 1.3394\n",
      "Epoch: 486, Loss: 1.3394, Train: 1.3394, Val: 1.3394\n",
      "Epoch: 487, Loss: 1.3394, Train: 1.3394, Val: 1.3394\n",
      "Epoch: 488, Loss: 1.3394, Train: 1.3394, Val: 1.3394\n",
      "Epoch: 489, Loss: 1.3394, Train: 1.3394, Val: 1.3394\n",
      "Epoch: 490, Loss: 1.3394, Train: 1.3394, Val: 1.3394\n",
      "Epoch: 491, Loss: 1.3394, Train: 1.3394, Val: 1.3394\n",
      "Epoch: 492, Loss: 1.3394, Train: 1.3394, Val: 1.3394\n",
      "Epoch: 493, Loss: 1.3394, Train: 1.3394, Val: 1.3394\n",
      "Epoch: 494, Loss: 1.3394, Train: 1.3394, Val: 1.3394\n",
      "Epoch: 495, Loss: 1.3394, Train: 1.3394, Val: 1.3394\n",
      "Epoch: 496, Loss: 1.3394, Train: 1.3394, Val: 1.3394\n",
      "Epoch: 497, Loss: 1.3394, Train: 1.3394, Val: 1.3394\n",
      "Epoch: 498, Loss: 1.3394, Train: 1.3394, Val: 1.3394\n",
      "Epoch: 499, Loss: 1.3394, Train: 1.3394, Val: 1.3394\n",
      "Epoch: 500, Loss: 1.3394, Train: 1.3394, Val: 1.3394\n"
     ]
    }
   ]
  },
  {
   "cell_type": "code",
   "execution_count": 17,
   "outputs": [],
   "source": [
    "torch.save(model.state_dict(), 'model_weights.pth')"
   ],
   "metadata": {
    "collapsed": false,
    "ExecuteTime": {
     "start_time": "2023-05-21T06:51:18.128732Z",
     "end_time": "2023-05-21T06:51:18.159946Z"
    }
   }
  }
 ]
}
