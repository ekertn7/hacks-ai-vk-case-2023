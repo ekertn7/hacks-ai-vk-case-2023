{
 "cells": [
  {
   "cell_type": "code",
   "execution_count": 53,
   "id": "038b0b50",
   "metadata": {},
   "outputs": [],
   "source": [
    "import pandas as pd\n",
    "import numpy as np\n",
    "\n",
    "from sklearn.metrics import mean_squared_error"
   ]
  },
  {
   "cell_type": "markdown",
   "id": "35621d21",
   "metadata": {},
   "source": [
    "# Загрузка данных"
   ]
  },
  {
   "cell_type": "markdown",
   "id": "e3fe0e8e",
   "metadata": {},
   "source": [
    "В бейзлайне реализована простейшая модель на эго-графе.\n",
    "\n",
    "Для каждой пары вершин u и v эго-графа попытаемся найти всех общих \"друзей\" w. Силой связи между вершинами u и v будем считать средную силу связи между ними и общими друзьями.\n",
    "\n",
    "Поскольку обучение для такой модели не требуется, будем пользоваться только тестовой выборкой."
   ]
  },
  {
   "cell_type": "code",
   "execution_count": 28,
   "id": "daef4ca8",
   "metadata": {},
   "outputs": [
    {
     "name": "stdout",
     "output_type": "stream",
     "text": [
      "CPU times: user 15.9 s, sys: 2.72 s, total: 18.6 s\n",
      "Wall time: 18.6 s\n"
     ]
    }
   ],
   "source": [
    "%%time\n",
    "\n",
    "test = pd.read_csv(\"test.csv\")\n",
    "submission = pd.read_csv(\"submission.csv\")"
   ]
  },
  {
   "cell_type": "code",
   "execution_count": 33,
   "id": "71e2d6b4",
   "metadata": {},
   "outputs": [
    {
     "data": {
      "text/html": [
       "<div>\n",
       "<style scoped>\n",
       "    .dataframe tbody tr th:only-of-type {\n",
       "        vertical-align: middle;\n",
       "    }\n",
       "\n",
       "    .dataframe tbody tr th {\n",
       "        vertical-align: top;\n",
       "    }\n",
       "\n",
       "    .dataframe thead th {\n",
       "        text-align: right;\n",
       "    }\n",
       "</style>\n",
       "<table border=\"1\" class=\"dataframe\">\n",
       "  <thead>\n",
       "    <tr style=\"text-align: right;\">\n",
       "      <th></th>\n",
       "      <th>ego_id</th>\n",
       "      <th>u</th>\n",
       "      <th>v</th>\n",
       "      <th>x1</th>\n",
       "    </tr>\n",
       "  </thead>\n",
       "  <tbody>\n",
       "    <tr>\n",
       "      <th>0</th>\n",
       "      <td>8</td>\n",
       "      <td>0</td>\n",
       "      <td>93</td>\n",
       "      <td>NaN</td>\n",
       "    </tr>\n",
       "    <tr>\n",
       "      <th>1</th>\n",
       "      <td>8</td>\n",
       "      <td>0</td>\n",
       "      <td>143</td>\n",
       "      <td>NaN</td>\n",
       "    </tr>\n",
       "    <tr>\n",
       "      <th>2</th>\n",
       "      <td>8</td>\n",
       "      <td>0</td>\n",
       "      <td>151</td>\n",
       "      <td>NaN</td>\n",
       "    </tr>\n",
       "    <tr>\n",
       "      <th>3</th>\n",
       "      <td>8</td>\n",
       "      <td>1</td>\n",
       "      <td>24</td>\n",
       "      <td>NaN</td>\n",
       "    </tr>\n",
       "    <tr>\n",
       "      <th>4</th>\n",
       "      <td>8</td>\n",
       "      <td>5</td>\n",
       "      <td>4</td>\n",
       "      <td>NaN</td>\n",
       "    </tr>\n",
       "  </tbody>\n",
       "</table>\n",
       "</div>"
      ],
      "text/plain": [
       "   ego_id  u    v  x1\n",
       "0       8  0   93 NaN\n",
       "1       8  0  143 NaN\n",
       "2       8  0  151 NaN\n",
       "3       8  1   24 NaN\n",
       "4       8  5    4 NaN"
      ]
     },
     "execution_count": 33,
     "metadata": {},
     "output_type": "execute_result"
    }
   ],
   "source": [
    "submission.head()"
   ]
  },
  {
   "cell_type": "markdown",
   "id": "f647f5d9",
   "metadata": {},
   "source": [
    "Проверочные данные - недоступны участникам, используются для подсчёта метрики:"
   ]
  },
  {
   "cell_type": "code",
   "execution_count": 29,
   "id": "3ce2c652",
   "metadata": {},
   "outputs": [],
   "source": [
    "control = pd.read_csv(\"control.csv\")"
   ]
  },
  {
   "cell_type": "markdown",
   "id": "c979f99f",
   "metadata": {},
   "source": [
    "Таблицы control и submission отличаются только последним столбцом x1. В таблице control в этом столбце содержатся истинные значения связей x1."
   ]
  },
  {
   "cell_type": "code",
   "execution_count": 32,
   "id": "b3144199",
   "metadata": {},
   "outputs": [
    {
     "data": {
      "text/plain": [
       "True"
      ]
     },
     "execution_count": 32,
     "metadata": {},
     "output_type": "execute_result"
    }
   ],
   "source": [
    "control[[\"ego_id\", \"u\", \"v\"]].equals(submission[[\"ego_id\", \"u\", \"v\"]])"
   ]
  },
  {
   "cell_type": "markdown",
   "id": "4506a1ca",
   "metadata": {},
   "source": [
    "Таблица submission отсортирована по возрастанию ego_id, u, v:"
   ]
  },
  {
   "cell_type": "code",
   "execution_count": 39,
   "id": "4ee95b50",
   "metadata": {},
   "outputs": [
    {
     "data": {
      "text/plain": [
       "True"
      ]
     },
     "execution_count": 39,
     "metadata": {},
     "output_type": "execute_result"
    }
   ],
   "source": [
    "submission.equals(submission.sort_values([\"ego_id\", \"u\", \"v\"]))"
   ]
  },
  {
   "cell_type": "markdown",
   "id": "834268e1",
   "metadata": {},
   "source": [
    "# Модель"
   ]
  },
  {
   "cell_type": "code",
   "execution_count": 45,
   "id": "e0122120",
   "metadata": {},
   "outputs": [
    {
     "data": {
      "text/plain": [
       "901943132599     349\n",
       "721554506143     328\n",
       "1400159338751    298\n",
       "1039382085802    270\n",
       "575525618423     262\n",
       "                ... \n",
       "1142461301166      1\n",
       "515396076193       1\n",
       "515396076373       1\n",
       "51539608193        1\n",
       "1245540516719      1\n",
       "Name: ego_id, Length: 20586, dtype: int64"
      ]
     },
     "execution_count": 45,
     "metadata": {},
     "output_type": "execute_result"
    }
   ],
   "source": [
    "submission[\"ego_id\"].value_counts()"
   ]
  },
  {
   "cell_type": "markdown",
   "id": "f539298f",
   "metadata": {},
   "source": [
    "Константное предсказание:"
   ]
  },
  {
   "cell_type": "code",
   "execution_count": 47,
   "id": "b9a2ab62",
   "metadata": {},
   "outputs": [
    {
     "name": "stdout",
     "output_type": "stream",
     "text": [
      "CPU times: user 331 ms, sys: 109 ms, total: 440 ms\n",
      "Wall time: 437 ms\n"
     ]
    }
   ],
   "source": [
    "%%time\n",
    "\n",
    "submission_dummy = submission.copy()\n",
    "submission_dummy[\"x1\"] = np.nanmean(test[\"x1\"].values)"
   ]
  },
  {
   "cell_type": "code",
   "execution_count": 59,
   "id": "e9238b4b",
   "metadata": {},
   "outputs": [
    {
     "name": "stderr",
     "output_type": "stream",
     "text": [
      "100%|███████████████████████████████████████████████████████████████| 20586/20586 [58:27<00:00,  5.87it/s]"
     ]
    },
    {
     "name": "stdout",
     "output_type": "stream",
     "text": [
      "CPU times: user 58min 31s, sys: 12.5 s, total: 58min 43s\n",
      "Wall time: 58min 28s\n"
     ]
    },
    {
     "name": "stderr",
     "output_type": "stream",
     "text": [
      "\n"
     ]
    }
   ],
   "source": [
    "%%time\n",
    "\n",
    "from tqdm import tqdm\n",
    "\n",
    "\n",
    "ego_id_list = submission[\"ego_id\"].drop_duplicates().values\n",
    "for ego_id in tqdm(ego_id_list):\n",
    "    submission_ego_net = submission[submission[\"ego_id\"] == ego_id]\n",
    "    test_ego_net = test[test[\"ego_id\"] == ego_id]\n",
    "    friendship = np.zeros_like(submission_ego_net[\"x1\"].values)\n",
    "    for i, (u, v) in enumerate(zip(submission_ego_net[\"u\"], submission_ego_net[\"v\"])):\n",
    "        u_x1 = test_ego_net.loc[test_ego_net[\"u\"] == u, [\"v\", \"x1\"]].dropna()\n",
    "        v_x1 = test_ego_net.loc[test_ego_net[\"u\"] == v, [\"v\", \"x1\"]].dropna()\n",
    "        common_friends = u_x1.merge(v_x1, on=\"v\")\n",
    "        if common_friends.shape[0] > 0:\n",
    "            friendship[i] = np.mean(common_friends.drop(\"v\", axis=1).values)\n",
    "    submission.loc[submission[\"ego_id\"] == ego_id, \"x1\"] = friendship"
   ]
  },
  {
   "cell_type": "markdown",
   "id": "6e9ceb0e",
   "metadata": {},
   "source": [
    "# Посчёт метрик"
   ]
  },
  {
   "cell_type": "code",
   "execution_count": 51,
   "id": "aa8c927f",
   "metadata": {},
   "outputs": [],
   "source": [
    "def RMSE(y_true, y_pred):\n",
    "    return mean_squared_error(y_true, y_pred, squared=False)"
   ]
  },
  {
   "cell_type": "code",
   "execution_count": 54,
   "id": "dade027d",
   "metadata": {},
   "outputs": [
    {
     "name": "stdout",
     "output_type": "stream",
     "text": [
      "Dummy model RMSE: 1.3604058861047796\n"
     ]
    }
   ],
   "source": [
    "print(\"Dummy model RMSE: {}\".format(RMSE(control[\"x1\"], submission_dummy[\"x1\"])))"
   ]
  },
  {
   "cell_type": "code",
   "execution_count": 63,
   "id": "32f3c1fc",
   "metadata": {},
   "outputs": [
    {
     "name": "stdout",
     "output_type": "stream",
     "text": [
      "Baseline model RMSE: 1.353040933001075\n"
     ]
    }
   ],
   "source": [
    "print(\"Baseline model RMSE: {}\".format(RMSE(control[\"x1\"], submission[\"x1\"])))"
   ]
  }
 ],
 "metadata": {
  "kernelspec": {
   "display_name": "groupby_env",
   "language": "python",
   "name": "groupby_env"
  },
  "language_info": {
   "codemirror_mode": {
    "name": "ipython",
    "version": 3
   },
   "file_extension": ".py",
   "mimetype": "text/x-python",
   "name": "python",
   "nbconvert_exporter": "python",
   "pygments_lexer": "ipython3",
   "version": "3.8.12"
  }
 },
 "nbformat": 4,
 "nbformat_minor": 5
}
